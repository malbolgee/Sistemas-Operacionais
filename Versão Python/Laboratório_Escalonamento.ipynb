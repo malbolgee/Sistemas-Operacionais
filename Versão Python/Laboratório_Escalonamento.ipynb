{
 "cells": [
  {
   "cell_type": "markdown",
   "metadata": {
    "colab_type": "text",
    "id": "t1B1lQ1sXJKr"
   },
   "source": [
    "### Laboratorio de Escalonamento ###\n",
    "\n",
    "Neste laboratório, iremos simular o funcionamento de algoritmos de escalonamento básicos para entender melhor seu funcionamento.\n",
    "\n",
    "Na célula abaixo, temos uma classe Processo, que tem as informações de execução, e uma classe de exemplo de escalonamento apenas com os protótipos:\n",
    "\n",
    "(orientação a objeto em Python)"
   ]
  },
  {
   "cell_type": "code",
   "execution_count": 1,
   "metadata": {
    "colab": {},
    "colab_type": "code",
    "id": "CKLCRHZhXJKs"
   },
   "outputs": [],
   "source": [
    "import numpy as np\n",
    "import random\n",
    "from copy import deepcopy\n",
    "\n",
    "class Processo(object):\n",
    "    def __init__(self, pnome, pio, ptam, prioridade, tempoChegada):\n",
    "        self.nome = pnome\n",
    "        self.io = pio # Probabilidade de fazer E/S, inicialmente zero\n",
    "        self.tam = ptam # Quantos Timeslices sao necessarios para terminar\n",
    "        self.prio = prioridade # Prioridade, é desnecessaria agora \n",
    "        self.chegada = tempoChegada\n",
    "\n",
    "    def roda(self, quantum=None):\n",
    "        if(random.randint(1, 100) < self.io):\n",
    "            self.tam -= 1\n",
    "            print(self.nome,\" fez e/s, falta \", self.tam)\n",
    "            return 1, True\n",
    "            \n",
    "            \n",
    "        if(quantum is None or self.tam < quantum):\n",
    "            quantum = self.tam\n",
    "        \n",
    "        self.tam -= quantum\n",
    "#         print(self.nome,\" rodou por \", quantum, \" timeslice, faltam \", self.tam)\n",
    "        return quantum, False\n",
    "\n",
    "class escalonadorFIFO(object):\n",
    "    name = \"EscalonadorFIFO\"\n",
    "    def __init__(self, vprontos = []):\n",
    "        self.prontos = vprontos\n",
    "       \n",
    "        \n",
    "    def pronto(self,Processo):\n",
    "        self.prontos.append(Processo)\n",
    "    \n",
    "    def proximo(self):\n",
    "        p =  self.prontos.pop(0)\n",
    "        return p\n",
    "\n",
    "class escalonadorSJF(object):\n",
    "    name = \"EscalonadorSJF\"\n",
    "    def __init__(self, vprontos = []):\n",
    "        self.prontos = vprontos\n",
    "\n",
    "    def pronto(self,Processo):\n",
    "        self.prontos.append(Processo)\n",
    "        \n",
    "    def proximo(self):\n",
    "        minIndex = self.getMin()\n",
    "        p =  self.prontos.pop(minIndex)\n",
    "        return p\n",
    "    \n",
    "    def getMin(self):\n",
    "        minIndex = 0\n",
    "        minTam = 0x3f3f3f\n",
    "        for (idx, item) in enumerate(self.prontos):\n",
    "            if (item.tam < minTam):\n",
    "                minIndex = idx\n",
    "                minTam = item.tam\n",
    "        \n",
    "        return minIndex\n",
    "\n",
    "class escalonadorSTCF(object):\n",
    "    name = \"EscalonadorSTCF\"\n",
    "    def __init__(self,vprontos = []):\n",
    "        self.prontos = vprontos\n",
    "\n",
    "    def pronto(self, Processo):\n",
    "        self.prontos.append(Processo)\n",
    "        \n",
    "    def proximo(self):\n",
    "        p =  self.prontos.pop(0)\n",
    "        return p\n",
    "\n",
    "class escalonadorRoundRobin(object):\n",
    "    name = \"EscalonadorRoundRobin\"\n",
    "    def __init__(self,vprontos = []):\n",
    "        self.prontos = vprontos\n",
    "\n",
    "    def pronto(self, Processo):\n",
    "        self.prontos.append(Processo)\n",
    "        \n",
    "    def proximo(self):\n",
    "        p =  self.prontos.pop(0)\n",
    "        return p"
   ]
  },
  {
   "cell_type": "markdown",
   "metadata": {
    "colab_type": "text",
    "id": "14846ZyfXJKx"
   },
   "source": [
    "Na célula abaixo, são criados quatro processos completamente CPU-Bound que precisam de 3 timeslices para rodar.\n",
    "\n",
    "O valor de E/S é um número entre 0 e 100 indicando quantos porcento de chance o processo tem de fazer E/S durante seu tempo na CPU"
   ]
  },
  {
   "cell_type": "code",
   "execution_count": 4,
   "metadata": {
    "colab": {},
    "colab_type": "code",
    "id": "Rc4wVHA4XJKx"
   },
   "outputs": [
    {
     "name": "stdout",
     "output_type": "stream",
     "text": [
      "15\n"
     ]
    }
   ],
   "source": [
    "nomes = ['A','B','C']\n",
    "chance_io = [0, 0, 0, 0, 0, 0] #Valor de zero a cem, chance de ser entrada e saida por enquanto deixem em zero\n",
    "tamanho = np.array([5, 5, 5])\n",
    "nprocs = len(nomes)\n",
    "\n",
    "total = tamanho.sum()\n",
    "print(total)\n",
    "\n",
    "procs = []\n",
    "for i in range(nprocs):\n",
    "    procs.append(Processo(nomes[i],chance_io[i],tamanho[i], 0, 0)) #cria uma lista procs de Processos"
   ]
  },
  {
   "cell_type": "markdown",
   "metadata": {
    "colab_type": "text",
    "id": "VkfIM_1iXJK0"
   },
   "source": [
    "Na célula abaixo, temos uma simulação do funcionamento de um escalonador de processos. As duas configurações importantes aqui são o valor do quantum padrão (que pode ser dinamico em algoritmos mais complexos, e quantos timeslices um processo que faz e/s passa bloqueado.\n",
    "\n",
    "Percebam que na terceira linha é instanciado o escalonador (neste caso, um round_robin). Isto foi feito assim para ser simples trocar o escalonador e repetir a simulação, bastando criar uma classe com os métodos pronto, proximo e construtor e alterar esta linha."
   ]
  },
  {
   "cell_type": "code",
   "execution_count": 5,
   "metadata": {
    "colab": {},
    "colab_type": "code",
    "id": "7LPgBMrXXJK1"
   },
   "outputs": [
    {
     "name": "stdout",
     "output_type": "stream",
     "text": [
      "EscalonadorFIFO Tempo de Execução:  10.0 Tempo de Resposta:  5.0\n",
      "EscalonadorSJF Tempo de Execução:  10.0 Tempo de Resposta:  5.0\n"
     ]
    },
    {
     "data": {
      "text/plain": [
       "5.0"
      ]
     },
     "execution_count": 5,
     "metadata": {},
     "output_type": "execute_result"
    }
   ],
   "source": [
    "def run_simple(escalonador, total):\n",
    "        \n",
    "    tempo = 0\n",
    "    t_exec = 0\n",
    "    t_wait = 0\n",
    "    t_exec_m = 0\n",
    "    \n",
    "    while total > 0:\n",
    "        p = escalonador.proximo()\n",
    "        if(p is not None):\n",
    "            rodou, _ = p.roda()\n",
    "\n",
    "            if(p.tam > 0):\n",
    "                escalonador.pronto(p)\n",
    "            \n",
    "            t_wait += tempo - p.chegada\n",
    "            \n",
    "            total -= rodou\n",
    "            tempo += rodou\n",
    "\n",
    "            t_exec += (rodou - p.chegada)\n",
    "            t_exec_m += t_exec\n",
    "\n",
    "        else:\n",
    "            tempo+=1\n",
    "    \n",
    "    print(escalonador.name, \"Tempo de Execução: \", t_exec_m / nprocs, \"Tempo de Resposta: \", t_wait / nprocs)\n",
    "    return t_wait / nprocs\n",
    "    \n",
    "quantum = 2\n",
    "tempoBloq = 1\n",
    "bloqueados = []\n",
    "random.seed(0)\n",
    "\n",
    "procs2 = deepcopy(procs)\n",
    "\n",
    "escalonador_FIFO = escalonadorFIFO(procs)\n",
    "escalonador_SJF = escalonadorSJF(procs2)\n",
    "\n",
    "run_simple(escalonador_FIFO, total)\n",
    "run_simple(escalonador_SJF, total)"
   ]
  },
  {
   "cell_type": "code",
   "execution_count": 3,
   "metadata": {},
   "outputs": [],
   "source": [
    "nomes = ['A','B','C']\n",
    "chance_io = [0, 0, 0, 0] #Valor de zero a cem, chance de ser entrada e saida por enquanto deixem em zero\n",
    "tamanho = np.array([5, 5, 5])\n",
    "tempoChegada = np.array([0, 0, 0, 0])\n",
    "nprocs = len(nomes)\n",
    "\n",
    "total = tamanho.sum()\n",
    "\n",
    "procs = []\n",
    "for i in range(nprocs):\n",
    "    procs.append(Processo(nomes[i], chance_io[i], tamanho[i], 0, tempoChegada[i])) #cria uma lista procs de Processos\n",
    "\n",
    "procs2 = deepcopy(procs)\n",
    "escalonador = escalonadorSTCF(procs)\n",
    "escalonador2 = escalonadorRoundRobin(procs2)\n",
    "\n",
    "def run(escalonador, total, quantum = None):\n",
    "    \n",
    "    tempo = 0\n",
    "    t_exec_m = 0\n",
    "    t_wait_m = 0\n",
    "    t_wait_dict = {nome:[0, False] for nome in nomes}\n",
    "    \n",
    "    while total > 0:\n",
    "        p = escalonador.proximo()\n",
    "        if(p is not None):\n",
    "            rodou, _ = p.roda(quantum)\n",
    "            \n",
    "            if (t_wait_dict[p.nome][1] == False):\n",
    "                t_wait_dict[p.nome][0] = tempo\n",
    "                t_wait_dict[p.nome][1] = True\n",
    "            \n",
    "            tempo += rodou\n",
    "            if(p.tam > 0):\n",
    "                escalonador.pronto(p)\n",
    "            else:\n",
    "                t_exec_m += tempo\n",
    "            \n",
    "            total -= rodou\n",
    "\n",
    "        else:\n",
    "            tempo += 1\n",
    "            \n",
    "    for value in t_wait_dict.values():\n",
    "        t_wait_m += value[0]\n",
    "    \n",
    "    print(escalonador.name, \"Tempo de Execução: \", t_exec_m / nprocs, \"Tempo de Resposta: \", t_wait_m / nprocs)\n",
    "    return t_wait_m / nprocs\n",
    "\n",
    "run(escalonador, total, 5)\n",
    "run(escalonador2, total, 5)"
   ]
  },
  {
   "cell_type": "code",
   "execution_count": 6,
   "metadata": {},
   "outputs": [
    {
     "name": "stdout",
     "output_type": "stream",
     "text": [
      "EscalonadorSJF Tempo de Execução:  20.0 Tempo de Resposta:  10.0\n",
      "EscalonadorSJF Tempo de Execução:  30.0 Tempo de Resposta:  15.0\n",
      "EscalonadorSJF Tempo de Execução:  40.0 Tempo de Resposta:  20.0\n",
      "EscalonadorSJF Tempo de Execução:  50.0 Tempo de Resposta:  25.0\n",
      "EscalonadorSJF Tempo de Execução:  60.0 Tempo de Resposta:  30.0\n",
      "EscalonadorSJF Tempo de Execução:  70.0 Tempo de Resposta:  35.0\n",
      "EscalonadorSJF Tempo de Execução:  80.0 Tempo de Resposta:  40.0\n",
      "EscalonadorSJF Tempo de Execução:  90.0 Tempo de Resposta:  45.0\n",
      "EscalonadorSJF Tempo de Execução:  100.0 Tempo de Resposta:  50.0\n"
     ]
    },
    {
     "data": {
      "image/png": "[encoded data removed]",
      "text/plain": [
       "<Figure size 432x288 with 1 Axes>"
      ]
     },
     "metadata": {
      "needs_background": "light"
     },
     "output_type": "display_data"
    },
    {
     "name": "stdout",
     "output_type": "stream",
     "text": [
      "\n",
      "EscalonadorRoundRobin Tempo de Execução:  145.0 Tempo de Resposta:  5.0\n",
      "EscalonadorRoundRobin Tempo de Execução:  148.0 Tempo de Resposta:  6.0\n",
      "EscalonadorRoundRobin Tempo de Execução:  148.0 Tempo de Resposta:  8.0\n",
      "EscalonadorRoundRobin Tempo de Execução:  144.0 Tempo de Resposta:  11.0\n",
      "EscalonadorRoundRobin Tempo de Execução:  145.0 Tempo de Resposta:  15.0\n",
      "EscalonadorRoundRobin Tempo de Execução:  140.0 Tempo de Resposta:  20.0\n",
      "EscalonadorRoundRobin Tempo de Execução:  126.0 Tempo de Resposta:  26.0\n",
      "EscalonadorRoundRobin Tempo de Execução:  133.0 Tempo de Resposta:  33.0\n",
      "EscalonadorRoundRobin Tempo de Execução:  141.0 Tempo de Resposta:  41.0\n",
      "EscalonadorRoundRobin Tempo de Execução:  100.0 Tempo de Resposta:  50.0\n"
     ]
    },
    {
     "data": {
      "image/png": "[encoded data removed]",
      "text/plain": [
       "<Figure size 432x288 with 1 Axes>"
      ]
     },
     "metadata": {
      "needs_background": "light"
     },
     "output_type": "display_data"
    }
   ],
   "source": [
    "import matplotlib.pyplot as plt\n",
    "%matplotlib inline\n",
    "\n",
    "nomes = ['A','B','C']\n",
    "chance_io = [0, 0, 0, 0] #Valor de zero a cem, chance de ser entrada e saida por enquanto deixem em zero\n",
    "tempoChegada = np.array([0, 0, 0])\n",
    "nprocs = len(nomes)\n",
    "xAxis = []\n",
    "yAxis = []\n",
    "\n",
    "x = 5\n",
    "for i in range(5, 50, 5):\n",
    "    \n",
    "    yAxis.append(x + i);\n",
    "    tamanho = np.array([x + i, x + i, x + i])\n",
    "    total = tamanho.sum()\n",
    "    t_exec = 0\n",
    "    procs = []\n",
    "    for i in range(nprocs):\n",
    "        procs.append(Processo(nomes[i], chance_io[i], tamanho[i], 0, tempoChegada[i]))\n",
    "    \n",
    "    t_exec = run_simple(escalonadorSJF(procs), total)\n",
    "    xAxis.append(t_exec)\n",
    "\n",
    "plt.plot(xAxis, yAxis)\n",
    "plt.title('Gráfico 1')\n",
    "plt.ylabel('Tamanho')\n",
    "plt.xlabel('Tempo de Execução')\n",
    "plt.show()\n",
    "    \n",
    "print()\n",
    "quantum = 5\n",
    "\n",
    "xAxis = []\n",
    "yAxis = []\n",
    "\n",
    "for i in range(10):\n",
    "    \n",
    "    quantum += i\n",
    "    \n",
    "    yAxis.append(quantum)\n",
    "    tamanho = np.array([50, 50, 50])\n",
    "    total = tamanho.sum()\n",
    "    procs = []\n",
    "    t_exec = 0\n",
    "    for i in range(nprocs):\n",
    "        procs.append(Processo(nomes[i], chance_io[i], tamanho[i], 0, tempoChegada[i]))\n",
    "    \n",
    "    t_exec = run(escalonadorRoundRobin(procs), total, quantum)\n",
    "    xAxis.append(t_exec)\n",
    "    \n",
    "plt.plot(xAxis, yAxis)\n",
    "plt.title('Gráfico 2')\n",
    "plt.ylabel('Tamanho')\n",
    "plt.xlabel('Tempo')\n",
    "plt.show()"
   ]
  },
  {
   "cell_type": "markdown",
   "metadata": {
    "colab_type": "text",
    "id": "l-WBMAKhXJK4"
   },
   "source": [
    "### Laboratório: ###\n",
    "\n",
    "\n",
    "1 - Altere o simulador acima para calcular o tempo de execucao medio e tempo de resposta \n",
    "\n",
    "2 - Implemente o escalonador por FIFO e SJF e verifique seus tempos de execução e espera.\n",
    "\n",
    "3 - Faça em outra célula uma implementação do STCF e Round Robin, alterando o p.roda() para receber o quantum\n"
   ]
  },
  {
   "cell_type": "markdown",
   "metadata": {
    "colab_type": "text",
    "id": "G5T25EzaXJK5"
   },
   "source": [
    "Na segunda feira (15) haverá um questionário no ColabWeb onde você deverá utilizar suas implementações para responder às perguntas. Na terça de manhã farei uma breve conferência para tirar dúvidas."
   ]
  },
  {
   "cell_type": "code",
   "execution_count": null,
   "metadata": {
    "colab": {},
    "colab_type": "code",
    "id": "BlxysVYbuuDX"
   },
   "outputs": [],
   "source": []
  }
 ],
 "metadata": {
  "colab": {
   "name": "Laboratório Escalonamento.ipynb",
   "provenance": []
  },
  "kernelspec": {
   "display_name": "Python 3",
   "language": "python",
   "name": "python3"
  },
  "language_info": {
   "codemirror_mode": {
    "name": "ipython",
    "version": 3
   },
   "file_extension": ".py",
   "mimetype": "text/x-python",
   "name": "python",
   "nbconvert_exporter": "python",
   "pygments_lexer": "ipython3",
   "version": "3.8.2"
  }
 },
 "nbformat": 4,
 "nbformat_minor": 1
}
